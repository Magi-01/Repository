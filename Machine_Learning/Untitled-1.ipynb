{
 "cells": [
  {
   "cell_type": "code",
   "execution_count": 5,
   "metadata": {},
   "outputs": [],
   "source": [
    "import numpy as np\n",
    "import gurobipy as gp\n",
    "from gurobipy import GRB"
   ]
  },
  {
   "cell_type": "code",
   "execution_count": 6,
   "metadata": {},
   "outputs": [],
   "source": [
    "num_vehicles = 2\n",
    "num_lines = 5\n",
    "m = gp.Model(\"matrix1\")"
   ]
  },
  {
   "cell_type": "code",
   "execution_count": 7,
   "metadata": {},
   "outputs": [],
   "source": [
    "x = m.addMVar(num_vehicles, lb = [0]*num_vehicles, vtype=GRB.INTEGER, ub=GRB.INFINITY)\n",
    "m.update()"
   ]
  },
  {
   "cell_type": "code",
   "execution_count": 8,
   "metadata": {},
   "outputs": [],
   "source": [
    "A_matrix = np.array([\n",
    "    [20, 12],\n",
    "    [10, 15],\n",
    "    [5, 10],\n",
    "    [35, 19],\n",
    "    [25, 19]\n",
    "])\n",
    "b_matrix = np.array([180, 135, 200, 300, 100])\n",
    "for j in range(4):\n",
    "    m.addConstr(A_matrix[j]@x <= b_matrix[j])\n",
    "m.addConstr(A_matrix[4]@x >= b_matrix[4])\n",
    "m.addConstr(20 * x[0] + 10 * x[1] >= 25)\n",
    "m.addConstr(x[1] >= 0.5 * x[0])\n",
    "m.addConstr(x[0] >= 5)\n",
    "m.addConstr(x[1] >= 2)\n",
    "m.addConstr(x[0] + x[1] >= 4)\n",
    "m.update()"
   ]
  },
  {
   "cell_type": "code",
   "execution_count": 9,
   "metadata": {},
   "outputs": [],
   "source": [
    "profit = np.array([6000, 2000])\n",
    "m.setObjective(profit@x, GRB.MAXIMIZE)\n",
    "\n",
    "m.update()"
   ]
  },
  {
   "cell_type": "code",
   "execution_count": 10,
   "metadata": {},
   "outputs": [
    {
     "name": "stdout",
     "output_type": "stream",
     "text": [
      "Gurobi Optimizer version 10.0.3 build v10.0.3rc0 (win64)\n",
      "\n",
      "CPU model: AMD Ryzen 5 5600U with Radeon Graphics, instruction set [SSE2|AVX|AVX2]\n",
      "Thread count: 6 physical cores, 12 logical processors, using up to 12 threads\n",
      "\n",
      "Optimize a model with 10 rows, 2 columns and 18 nonzeros\n",
      "Model fingerprint: 0x16039c27\n",
      "Variable types: 0 continuous, 2 integer (0 binary)\n",
      "Coefficient statistics:\n",
      "  Matrix range     [5e-01, 4e+01]\n",
      "  Objective range  [2e+03, 6e+03]\n",
      "  Bounds range     [0e+00, 0e+00]\n",
      "  RHS range        [2e+00, 3e+02]\n",
      "Presolve removed 10 rows and 2 columns\n",
      "Presolve time: 0.01s\n",
      "Presolve: All rows and columns removed\n",
      "\n",
      "Explored 0 nodes (0 simplex iterations) in 0.03 seconds (0.00 work units)\n",
      "Thread count was 1 (of 12 available processors)\n",
      "\n",
      "Solution count 1: 44000 \n",
      "\n",
      "Optimal solution found (tolerance 1.00e-04)\n",
      "Best objective 4.400000000000e+04, best bound 4.400000000000e+04, gap 0.0000%\n",
      "industrial =  6.0\n",
      "agricultural =  4.0\n"
     ]
    }
   ],
   "source": [
    "m.optimize()\n",
    "print(\"industrial = \",x[0].x)\n",
    "print(\"agricultural = \",x[1].x)"
   ]
  }
 ],
 "metadata": {
  "kernelspec": {
   "display_name": "Python 3",
   "language": "python",
   "name": "python3"
  },
  "language_info": {
   "codemirror_mode": {
    "name": "ipython",
    "version": 3
   },
   "file_extension": ".py",
   "mimetype": "text/x-python",
   "name": "python",
   "nbconvert_exporter": "python",
   "pygments_lexer": "ipython3",
   "version": "3.7.9"
  }
 },
 "nbformat": 4,
 "nbformat_minor": 2
}
