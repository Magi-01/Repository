{
 "cells": [
  {
   "cell_type": "markdown",
   "metadata": {},
   "source": [
    "**Sociale**\n",
    "- Narraione sul Futuro E Bene Pubblico (Determinismo sociale):\n",
    "    - Pensiero sul l'influenza in cui l'intelligenza artificiale puo portare i.e\n",
    "      la plastica.\n",
    "    - Devo fare il bene per tutti in senso totale cioè il \"bene pubblico\". Questo include creare benefici per la società che riduce il\n",
    "      rischi negtivi i.e google is good at serching and is the world web but has bias in certain subjects (think serching a white man vs a black man on a new computer in America).\n",
    "    - Quindi deve essere possibile usare da tutti (FUN FACT: OPEN SOURCE =!= bene pubblico).\n",
    "\n",
    "- Sociomaterialismo:\n",
    "    - Determinismo tecnologico: il pensiero in cui la tecnologia cambia la società (i.e loss of job).\n",
    "    - Middle point fra Determinismo sociale e tecnologico: l'invenzione di aeroplani che ci ha permesso di collegarsi sia fra persone sia\n",
    "      fra merci.\n",
    "    - Sociale: pensiero in cui ogni comportamento è costituitto dallo obliggo sociale.\n",
    "    - Materiale: pensireo in cui ogni comportamento è dovuto ad un pensiero materiale.\n",
    "    - SocialMaterialismo: la materialità agisce come elemento costruttivo del sociale.\n",
    "    - Esempio: an amazon driver cannot function without a gps as they need to know where they are going same as management as there would\n",
    "      be a need to track the drivers same as warehouse workers as they would need to know where to put and where to take from.\n",
    "    - There is a emerging danger in which a human is no longer seen as human but as a series of data problem being the loose of\n",
    "      personalized data. I.e a doctor no longer having the chance to listen as to why you had to eat that extra amount of sugar if diabetic, just a machine telling the doctor that you have an incresed sugar intake through sms.\n",
    "    - \n"
   ]
  }
 ],
 "metadata": {
  "language_info": {
   "name": "python"
  }
 },
 "nbformat": 4,
 "nbformat_minor": 2
}
