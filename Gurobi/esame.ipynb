{
 "cells": [
  {
   "cell_type": "code",
   "execution_count": 1,
   "metadata": {},
   "outputs": [],
   "source": [
    "# Nome: Fadhla Mohamed\n",
    "# Cognome: Mutua\n",
    "# Matricola: SM3201434\n",
    "import numpy as np\n",
    "import gurobipy as gp\n",
    "from gurobipy import GRB, quicksum"
   ]
  },
  {
   "cell_type": "code",
   "execution_count": 17,
   "metadata": {},
   "outputs": [],
   "source": [
    "k= gp.Model()"
   ]
  },
  {
   "cell_type": "code",
   "execution_count": 18,
   "metadata": {},
   "outputs": [],
   "source": [
    "x = k.addVars(4, lb=[0]*4, vtype=GRB.CONTINUOUS)"
   ]
  },
  {
   "cell_type": "code",
   "execution_count": 19,
   "metadata": {},
   "outputs": [],
   "source": [
    "#A=x[0], B=x[1], C=x[2], D=x[3]\n",
    "\n",
    "const1 = k.addConstr(5*x[0]+8*x[1]+7*x[2]+3*x[3]<=300)\n",
    "const2 = k.addConstr(2*x[0]+4*x[1]+3*x[2]+5*x[3]<=180)\n",
    "const3 = k.addConstr(x[0]+x[1]>=12)\n",
    "const4 = k.addConstr(x[2]+x[3]>=10)\n",
    "const5 = k.addConstr(x[0]==2*x[2])\n",
    "const6 = k.addConstr(x[0]+x[3]>=2*x[1]+2*x[2])\n",
    "const7 = k.addConstr(x[1]>=0.25*(5*x[0]+8*x[1]+7*x[2]+3*x[3]))"
   ]
  },
  {
   "cell_type": "code",
   "execution_count": 20,
   "metadata": {},
   "outputs": [
    {
     "name": "stdout",
     "output_type": "stream",
     "text": [
      "Gurobi Optimizer version 11.0.2 build v11.0.2rc0 (win64 - Windows 10.0 (19045.2))\n",
      "\n",
      "CPU model: AMD Ryzen 5 5600U with Radeon Graphics, instruction set [SSE2|AVX|AVX2]\n",
      "Thread count: 6 physical cores, 12 logical processors, using up to 12 threads\n",
      "\n",
      "Optimize a model with 7 rows, 4 columns and 22 nonzeros\n",
      "Model fingerprint: 0x2d64fa87\n",
      "Coefficient statistics:\n",
      "  Matrix range     [8e-01, 8e+00]\n",
      "  Objective range  [0e+00, 0e+00]\n",
      "  Bounds range     [0e+00, 0e+00]\n",
      "  RHS range        [1e+01, 3e+02]\n",
      "Presolve removed 3 rows and 4 columns\n",
      "Presolve time: 0.01s\n",
      "\n",
      "Solved in 0 iterations and 0.01 seconds (0.00 work units)\n",
      "Infeasible model\n"
     ]
    }
   ],
   "source": [
    "k.optimize()"
   ]
  }
 ],
 "metadata": {
  "kernelspec": {
   "display_name": "Python 3",
   "language": "python",
   "name": "python3"
  },
  "language_info": {
   "codemirror_mode": {
    "name": "ipython",
    "version": 3
   },
   "file_extension": ".py",
   "mimetype": "text/x-python",
   "name": "python",
   "nbconvert_exporter": "python",
   "pygments_lexer": "ipython3",
   "version": "3.12.4"
  }
 },
 "nbformat": 4,
 "nbformat_minor": 2
}
