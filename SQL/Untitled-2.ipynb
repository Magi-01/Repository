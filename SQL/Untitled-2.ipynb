{
 "cells": [
  {
   "cell_type": "code",
   "execution_count": 1,
   "metadata": {},
   "outputs": [],
   "source": [
    "import gurobipy as gp\n",
    "from gurobipy import GRB\n",
    "import numpy as np"
   ]
  },
  {
   "cell_type": "code",
   "execution_count": 2,
   "metadata": {},
   "outputs": [
    {
     "name": "stdout",
     "output_type": "stream",
     "text": [
      "Set parameter Username\n",
      "Academic license - for non-commercial use only - expires 2025-03-07\n"
     ]
    }
   ],
   "source": [
    "K = gp.Model(\"matrix1\")"
   ]
  },
  {
   "cell_type": "code",
   "execution_count": 109,
   "metadata": {},
   "outputs": [],
   "source": [
    "x  = K.addMVar(2, lb=[0] * 2, ub=GRB.INFINITY)\n",
    "y  = K.addMVar(3, lb=[0] * 3, ub=GRB.INFINITY)\n",
    "K.update()"
   ]
  },
  {
   "cell_type": "code",
   "execution_count": 110,
   "metadata": {},
   "outputs": [],
   "source": [
    "A = np.array([[1,1],[0,2],[0,1],[1,0],[20,8]])\n",
    "b = np.array([[100],[16],[1],[0],[92]])\n",
    "\n",
    "A = np.array([[4,0],[0,2],[0,1],[1,0],[20,8]])\n",
    "b = np.array([[100],[16],[1],[0],[92]])\n",
    "\n",
    "cstr1 = K.addConstr(A[0]@x <= b[0], \"c1\")\n",
    "cstr2 = K.addConstr(A[1]@x <= b[1], \"c2\")\n",
    "cstr4 = K.addConstr(A[2]@x >= b[2], \"c4\")\n",
    "cstr5 = K.addConstrs((A[i]@x >= b[3] for i in range(2,4)), \"c5\")\n",
    "cstr6 = K.addConstr(A[4]@x >= b[4], \"c6\")\n",
    "\n",
    "K.update()"
   ]
  },
  {
   "cell_type": "code",
   "execution_count": 108,
   "metadata": {},
   "outputs": [],
   "source": [
    "K.remove(K.getConstrs())\n",
    "K.remove(K.getVars())"
   ]
  },
  {
   "cell_type": "code",
   "execution_count": 68,
   "metadata": {},
   "outputs": [
    {
     "name": "stdout",
     "output_type": "stream",
     "text": [
      "<gurobi.Model Continuous instance matrix1: 6 constrs, 2 vars, Parameter changes: Username=(user-defined)>\n"
     ]
    }
   ],
   "source": [
    "print(K)"
   ]
  },
  {
   "cell_type": "code",
   "execution_count": 111,
   "metadata": {},
   "outputs": [],
   "source": [
    "obj_coef = np.array([4,2])\n",
    "\n",
    "K.setObjective(obj_coef@x + 2, GRB.MINIMIZE)\n",
    "\n",
    "K.update()"
   ]
  },
  {
   "cell_type": "code",
   "execution_count": 112,
   "metadata": {},
   "outputs": [
    {
     "name": "stdout",
     "output_type": "stream",
     "text": [
      "Gurobi Optimizer version 10.0.3 build v10.0.3rc0 (win64)\n",
      "\n",
      "CPU model: AMD Ryzen 5 5600U with Radeon Graphics, instruction set [SSE2|AVX|AVX2]\n",
      "Thread count: 6 physical cores, 12 logical processors, using up to 12 threads\n",
      "\n",
      "Optimize a model with 6 rows, 2 columns and 7 nonzeros\n",
      "Model fingerprint: 0x2818b0ba\n",
      "Coefficient statistics:\n",
      "  Matrix range     [1e+00, 2e+01]\n",
      "  Objective range  [2e+00, 4e+00]\n",
      "  Bounds range     [0e+00, 0e+00]\n",
      "  RHS range        [1e+00, 9e+01]\n",
      "Presolve removed 6 rows and 2 columns\n",
      "Presolve time: 0.01s\n",
      "Presolve: All rows and columns removed\n",
      "       0    2.0800000e+01   0.000000e+00   0.000000e+00      0s\n",
      "\n",
      "Solved in 0 iterations and 0.01 seconds (0.00 work units)\n",
      "Optimal objective  2.080000000e+01\n"
     ]
    }
   ],
   "source": [
    "K.optimize()"
   ]
  }
 ],
 "metadata": {
  "kernelspec": {
   "display_name": "Python 3",
   "language": "python",
   "name": "python3"
  },
  "language_info": {
   "codemirror_mode": {
    "name": "ipython",
    "version": 3
   },
   "file_extension": ".py",
   "mimetype": "text/x-python",
   "name": "python",
   "nbconvert_exporter": "python",
   "pygments_lexer": "ipython3",
   "version": "3.7.9"
  }
 },
 "nbformat": 4,
 "nbformat_minor": 2
}
