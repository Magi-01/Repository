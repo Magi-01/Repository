{
 "cells": [
  {
   "cell_type": "markdown",
   "metadata": {},
   "source": [
    "## How To Make A Brand\n",
    "### 5 Passes:\n",
    "1. Invent something that's worthwhile\n",
    "2. Proggetare e costruirla in modo che sia di particolare interessa a poche persone\n",
    "3. Narrare una storia che corrisponde al prodotto\n",
    "4. Diffondere la Notizia\n",
    "5. Essere visibili regolarmente e persistentemente"
   ]
  },
  {
   "cell_type": "markdown",
   "metadata": {},
   "source": [
    "### What To Do:\n",
    "1. Who is the client\n",
    "2. What ambient are they in (Gloabal, Local, Outliers and their impact)\n",
    "3. Why would they use the service"
   ]
  },
  {
   "cell_type": "markdown",
   "metadata": {},
   "source": [
    "### Who is the client:\n",
    "- How do they live:\n",
    "    - Where do they go, what do they like doing, What do they use (how do we get to them), Who do they follow\n",
    "    - E.G. a middle-income family in the 80s would use the news to get news but gazzettes to look at the ads"
   ]
  },
  {
   "cell_type": "markdown",
   "metadata": {},
   "source": [
    "### The Ambient:\n",
    "- Their location and if even matches.\n",
    "    - E.G. a caucasian living in cina rural area, would it better to market as a cinese rural person or caucasian\n",
    "    - Another example is having to much skin shown in a clothe ad. You cannot bring such ads to them isalmic market"
   ]
  },
  {
   "cell_type": "markdown",
   "metadata": {},
   "source": [
    "### Why would they use the service:\n",
    "- E.g. in the japanese bag market, students usually stay with one bag from when they are children to the end of highscholl (some even bring them into adulthood) because the bags are essentialy then best for and island nation that could be flooded at any moment and as such the bags are made to be floating devices and in case of tremors; protectiong given their hardness"
   ]
  },
  {
   "cell_type": "markdown",
   "metadata": {},
   "source": [
    ".-----------------------------------------------------------------------------------------------------------------------------------------."
   ]
  },
  {
   "cell_type": "markdown",
   "metadata": {},
   "source": []
  }
 ],
 "metadata": {
  "language_info": {
   "name": "python"
  }
 },
 "nbformat": 4,
 "nbformat_minor": 2
}
